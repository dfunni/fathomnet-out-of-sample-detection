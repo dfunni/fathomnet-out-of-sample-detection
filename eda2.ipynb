{
 "cells": [
  {
   "cell_type": "code",
   "execution_count": 1,
   "metadata": {},
   "outputs": [],
   "source": [
    "from pycocotools.coco import COCO\n",
    "import seaborn as sns\n",
    "import matplotlib.pyplot as plt\n",
    "import matplotlib.image as mpimg\n",
    "import matplotlib.patches as patches\n",
    "import pandas as pd\n",
    "import yaml\n",
    "%matplotlib inline"
   ]
  },
  {
   "cell_type": "code",
   "execution_count": 2,
   "metadata": {},
   "outputs": [
    {
     "name": "stdout",
     "output_type": "stream",
     "text": [
      "loading annotations into memory...\n",
      "Done (t=0.13s)\n",
      "creating index...\n",
      "index created!\n",
      "loading annotations into memory...\n",
      "Done (t=0.03s)\n",
      "creating index...\n",
      "index created!\n"
     ]
    }
   ],
   "source": [
    "coco = COCO(\"object_detection/train.json\")\n",
    "coco_eval = COCO(\"object_detection/eval.json\")"
   ]
  },
  {
   "cell_type": "code",
   "execution_count": 3,
   "metadata": {},
   "outputs": [],
   "source": [
    "cat_df = pd.DataFrame.from_dict(coco.cats, orient='index')\n",
    "ann_df = pd.DataFrame.from_dict(coco.anns, orient='index')\n",
    "train_img_df = pd.DataFrame.from_dict(coco.imgs, orient='index')\n",
    "eval_img_df = pd.DataFrame.from_dict(coco_eval.imgs, orient='index')"
   ]
  },
  {
   "cell_type": "code",
   "execution_count": 8,
   "metadata": {},
   "outputs": [
    {
     "data": {
      "text/html": [
       "<div>\n",
       "<style scoped>\n",
       "    .dataframe tbody tr th:only-of-type {\n",
       "        vertical-align: middle;\n",
       "    }\n",
       "\n",
       "    .dataframe tbody tr th {\n",
       "        vertical-align: top;\n",
       "    }\n",
       "\n",
       "    .dataframe thead th {\n",
       "        text-align: right;\n",
       "    }\n",
       "</style>\n",
       "<table border=\"1\" class=\"dataframe\">\n",
       "  <thead>\n",
       "    <tr style=\"text-align: right;\">\n",
       "      <th></th>\n",
       "      <th>id</th>\n",
       "      <th>name</th>\n",
       "      <th>supercategory</th>\n",
       "    </tr>\n",
       "  </thead>\n",
       "  <tbody>\n",
       "    <tr>\n",
       "      <th>1</th>\n",
       "      <td>1</td>\n",
       "      <td>Actiniaria</td>\n",
       "      <td>Anemone</td>\n",
       "    </tr>\n",
       "    <tr>\n",
       "      <th>2</th>\n",
       "      <td>2</td>\n",
       "      <td>Actinernus</td>\n",
       "      <td>Anemone</td>\n",
       "    </tr>\n",
       "    <tr>\n",
       "      <th>3</th>\n",
       "      <td>3</td>\n",
       "      <td>Actiniidae</td>\n",
       "      <td>Anemone</td>\n",
       "    </tr>\n",
       "    <tr>\n",
       "      <th>4</th>\n",
       "      <td>4</td>\n",
       "      <td>Actinoscyphia</td>\n",
       "      <td>Anemone</td>\n",
       "    </tr>\n",
       "    <tr>\n",
       "      <th>5</th>\n",
       "      <td>5</td>\n",
       "      <td>Bolocera</td>\n",
       "      <td>Anemone</td>\n",
       "    </tr>\n",
       "    <tr>\n",
       "      <th>...</th>\n",
       "      <td>...</td>\n",
       "      <td>...</td>\n",
       "      <td>...</td>\n",
       "    </tr>\n",
       "    <tr>\n",
       "      <th>286</th>\n",
       "      <td>286</td>\n",
       "      <td>Polychaeta</td>\n",
       "      <td>Worm</td>\n",
       "    </tr>\n",
       "    <tr>\n",
       "      <th>287</th>\n",
       "      <td>287</td>\n",
       "      <td>Polynoidae</td>\n",
       "      <td>Worm</td>\n",
       "    </tr>\n",
       "    <tr>\n",
       "      <th>288</th>\n",
       "      <td>288</td>\n",
       "      <td>Sabellidae</td>\n",
       "      <td>Worm</td>\n",
       "    </tr>\n",
       "    <tr>\n",
       "      <th>289</th>\n",
       "      <td>289</td>\n",
       "      <td>Serpulidae</td>\n",
       "      <td>Worm</td>\n",
       "    </tr>\n",
       "    <tr>\n",
       "      <th>290</th>\n",
       "      <td>290</td>\n",
       "      <td>Terebellidae</td>\n",
       "      <td>Worm</td>\n",
       "    </tr>\n",
       "  </tbody>\n",
       "</table>\n",
       "<p>290 rows × 3 columns</p>\n",
       "</div>"
      ],
      "text/plain": [
       "      id           name supercategory\n",
       "1      1     Actiniaria       Anemone\n",
       "2      2     Actinernus       Anemone\n",
       "3      3     Actiniidae       Anemone\n",
       "4      4  Actinoscyphia       Anemone\n",
       "5      5       Bolocera       Anemone\n",
       "..   ...            ...           ...\n",
       "286  286     Polychaeta          Worm\n",
       "287  287     Polynoidae          Worm\n",
       "288  288     Sabellidae          Worm\n",
       "289  289     Serpulidae          Worm\n",
       "290  290   Terebellidae          Worm\n",
       "\n",
       "[290 rows x 3 columns]"
      ]
     },
     "execution_count": 8,
     "metadata": {},
     "output_type": "execute_result"
    }
   ],
   "source": [
    "cat_df"
   ]
  },
  {
   "cell_type": "code",
   "execution_count": null,
   "metadata": {},
   "outputs": [],
   "source": [
    "def images_eda(image_df):\n",
    "    n_total = len(image_df)\n",
    "    dims = pd.Series(tuple(zip(image_df.width, image_df.height)))\n",
    "    print(f'Total number of images in dataset: {n_total}')\n",
    "    print('Top resolutions:')\n",
    "    print(dims.value_counts().head(25))\n",
    "\n",
    "# images_eda(train_img_df)"
   ]
  },
  {
   "cell_type": "code",
   "execution_count": null,
   "metadata": {},
   "outputs": [],
   "source": [
    "def object_eda(annotation_df, categories_df):\n",
    "    cat_count = annotation_df.category_id.value_counts().to_frame()\n",
    "    df = categories_df.join(cat_count).sort_values('category_id', ascending=False).reset_index(drop=True)\n",
    "    df = df.rename(columns={'id': 'category_id',\n",
    "                              'name': 'category',\n",
    "                              'supercategory': 'supercategory',\n",
    "                              'category_id': 'cat_id_counts'})\n",
    "    # df = df[df.cat_id_counts > 50]\n",
    "    print(f'There are {len(df.dropna())} of 290 species present in the dataset.')\n",
    "    print(f'There are {len(df.dropna().supercategory.unique())} of 20 semantic supercategories present.')\n",
    "    return df\n",
    "\n",
    "df = object_eda(ann_df, cat_df).dropna()\n",
    "df"
   ]
  },
  {
   "cell_type": "code",
   "execution_count": null,
   "metadata": {},
   "outputs": [],
   "source": [
    "super_dict = {}\n",
    "for i, supercat in enumerate(df.supercategory.unique()):\n",
    "    df2 = df[df.supercategory == supercat]\n",
    "    nsup = sum(df2['cat_id_counts'])\n",
    "    \n",
    "    most_common_loc =df2['cat_id_counts'].max()\n",
    "    # print(supercat, nsup, most_common_loc)\n",
    "    most_common = int(df2[df2.cat_id_counts == most_common_loc]['category_id'])\n",
    "    super_dict[i] = {'supercat_id': i,\n",
    "                     'supercategory': supercat,\n",
    "                     'top_category_id': most_common,\n",
    "                     'cat_id_percentage': most_common_loc / nsup}\n",
    "\n",
    "df_super = pd.DataFrame.from_dict(super_dict, orient='index')\n",
    "df_super"
   ]
  },
  {
   "cell_type": "code",
   "execution_count": null,
   "metadata": {},
   "outputs": [],
   "source": [
    "supercat_map = df_super[['supercat_id', 'supercategory']].to_dict()['supercategory']"
   ]
  },
  {
   "cell_type": "code",
   "execution_count": null,
   "metadata": {},
   "outputs": [],
   "source": [
    "dataset = {'path': '/data/dataset',\n",
    "           'train': 'images/train',\n",
    "           'val': 'images/val',\n",
    "           'names': supercat_map}"
   ]
  },
  {
   "cell_type": "code",
   "execution_count": null,
   "metadata": {},
   "outputs": [],
   "source": [
    "dataset"
   ]
  },
  {
   "cell_type": "code",
   "execution_count": null,
   "metadata": {},
   "outputs": [],
   "source": [
    "with open(\"/data/super_dataset.yaml\", 'w') as yamlfile:\n",
    "    data = yaml.dump(dataset, yamlfile)\n",
    "    print(\"Write successful\")"
   ]
  },
  {
   "cell_type": "code",
   "execution_count": null,
   "metadata": {},
   "outputs": [],
   "source": [
    "df_supertop = df.merge(df_super, on='supercategory')"
   ]
  },
  {
   "cell_type": "code",
   "execution_count": null,
   "metadata": {},
   "outputs": [],
   "source": [
    "df_super.to_json('supercat_key.json')"
   ]
  },
  {
   "cell_type": "code",
   "execution_count": null,
   "metadata": {},
   "outputs": [],
   "source": [
    "ann_df"
   ]
  },
  {
   "cell_type": "code",
   "execution_count": null,
   "metadata": {},
   "outputs": [],
   "source": [
    "ann_super_df = ann_df.merge(df_supertop, on='category_id').sort_values('id').reset_index(drop=True)"
   ]
  },
  {
   "cell_type": "code",
   "execution_count": null,
   "metadata": {},
   "outputs": [],
   "source": [
    "ann_super_df.head(1)"
   ]
  },
  {
   "cell_type": "code",
   "execution_count": null,
   "metadata": {},
   "outputs": [],
   "source": [
    "ann_out = ann_super_df[['id', 'image_id', 'category_id', 'segmentation', 'area', 'bbox', 'iscrowd']]\n",
    "ann_out = ann_out.assign(category_id=ann_super_df['supercat_id'])\n",
    "ann_out"
   ]
  },
  {
   "cell_type": "code",
   "execution_count": null,
   "metadata": {},
   "outputs": [],
   "source": [
    "ann_out.to_json('annotation_sup.json')"
   ]
  },
  {
   "cell_type": "code",
   "execution_count": null,
   "metadata": {},
   "outputs": [],
   "source": [
    "ann_super_df.to_json('master_key.json')"
   ]
  },
  {
   "cell_type": "code",
   "execution_count": null,
   "metadata": {},
   "outputs": [],
   "source": [
    "# super_map = {}\n",
    "# for i, cat in enumerate(df.category_id.unique()):\n",
    "#     df2 = df[df.category_id == cat]\n",
    "#     # print(supercat, df[df.supercategory == supercat]['category_id'].unique())\n",
    "#     super_map[cat] = df2.supercategory.values\n",
    "# super_map"
   ]
  },
  {
   "cell_type": "code",
   "execution_count": null,
   "metadata": {},
   "outputs": [],
   "source": [
    "def supercat_eda(annotation_df, categories_df):\n",
    "    df = categories_df\n",
    "    out = {}\n",
    "    supermap = {i: list(df[df.supercategory == i].id.unique()) for i in df.supercategory.unique()}\n",
    "    for i in supermap.keys():\n",
    "        out[i] = 0\n",
    "        for j in supermap[i]:\n",
    "            out[i] += (len(annotation_df[annotation_df.category_id == j].image_id.unique()))    \n",
    "    return out, supermap\n",
    "\n",
    "supercat_eda(ann_df, cat_df)#.head(15)"
   ]
  },
  {
   "cell_type": "code",
   "execution_count": null,
   "metadata": {},
   "outputs": [],
   "source": []
  }
 ],
 "metadata": {
  "kernelspec": {
   "display_name": "Python 3",
   "language": "python",
   "name": "python3"
  },
  "language_info": {
   "codemirror_mode": {
    "name": "ipython",
    "version": 3
   },
   "file_extension": ".py",
   "mimetype": "text/x-python",
   "name": "python",
   "nbconvert_exporter": "python",
   "pygments_lexer": "ipython3",
   "version": "3.9.16"
  },
  "orig_nbformat": 4
 },
 "nbformat": 4,
 "nbformat_minor": 2
}
