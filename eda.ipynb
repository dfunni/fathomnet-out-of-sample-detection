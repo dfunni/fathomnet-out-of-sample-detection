{
 "cells": [
  {
   "cell_type": "code",
   "execution_count": null,
   "metadata": {},
   "outputs": [],
   "source": [
    "from pycocotools.coco import COCO\n",
    "import seaborn as sns\n",
    "import matplotlib.pyplot as plt\n",
    "import matplotlib.image as mpimg\n",
    "import matplotlib.patches as patches\n",
    "import pandas as pd\n",
    "import yaml\n",
    "%matplotlib inline"
   ]
  },
  {
   "cell_type": "code",
   "execution_count": null,
   "metadata": {},
   "outputs": [],
   "source": [
    "DATAPATH = \"/data/\"\n",
    "EVALPATH = \"/data/eval/\"\n",
    "TRAINPATH = \"/data/train/\""
   ]
  },
  {
   "cell_type": "code",
   "execution_count": null,
   "metadata": {},
   "outputs": [],
   "source": [
    "coco = COCO(\"object_detection/train.json\")\n",
    "coco_eval = COCO(\"object_detection/eval.json\")"
   ]
  },
  {
   "cell_type": "code",
   "execution_count": null,
   "metadata": {},
   "outputs": [],
   "source": [
    "# mapping of top species depth, shallow corresponds to < 800 m, source: google search\n",
    "shallow_species = {160: True,\n",
    "                   37: False,\n",
    "                   119: True,\n",
    "                   51: True,\n",
    "                   10: True,\n",
    "                   146: False, # 1087m\n",
    "                   52: False,\n",
    "                   88: False,\n",
    "                   125: False,\n",
    "                   203: False, # 927m\n",
    "                   214: True, # not much data\n",
    "                   1: False,\n",
    "                   259: True,\n",
    "                   9: False, # 1000m\n",
    "                   105: True,\n",
    "                   211: False,\n",
    "                   133: True,\n",
    "                   142: False,\n",
    "                   70: False,\n",
    "                   260: True,\n",
    "                   274: True,\n",
    "                   174: False,\n",
    "                   205: False, # not much data\n",
    "                   120: False,\n",
    "                   219: False, # not much data\n",
    "                   81: False,\n",
    "                   69: False,\n",
    "                   104: True,\n",
    "                   218: False,\n",
    "                   16: False,\n",
    "                   103: True,\n",
    "                   224: False,\n",
    "                   228: False,\n",
    "                   242: False,\n",
    "                   61: True, # mostly\n",
    "                   116: True,\n",
    "                   255: False,\n",
    "                   202: False,\n",
    "                   108: False, # unknown\n",
    "                   11: False\n",
    "                   }"
   ]
  },
  {
   "cell_type": "code",
   "execution_count": null,
   "metadata": {},
   "outputs": [],
   "source": [
    "cat_df = pd.DataFrame.from_dict(coco.cats, orient='index')\n",
    "cat_df = cat_df.join(pd.Series(shallow_species, name='shallow_species'), on='id').dropna()\n",
    "cat_df = cat_df.reset_index(drop=True)"
   ]
  },
  {
   "cell_type": "code",
   "execution_count": null,
   "metadata": {},
   "outputs": [],
   "source": [
    "cat_df"
   ]
  },
  {
   "cell_type": "code",
   "execution_count": null,
   "metadata": {},
   "outputs": [],
   "source": [
    "cat_dict =  cat_df['name'].to_dict()"
   ]
  },
  {
   "cell_type": "code",
   "execution_count": null,
   "metadata": {},
   "outputs": [],
   "source": [
    "cat_dict"
   ]
  },
  {
   "attachments": {},
   "cell_type": "markdown",
   "metadata": {},
   "source": [
    "## Make dataset.yaml"
   ]
  },
  {
   "cell_type": "code",
   "execution_count": null,
   "metadata": {},
   "outputs": [],
   "source": [
    "dataset = {'path': '/data/dataset',\n",
    "           'train': 'images/train',\n",
    "           'val': 'images/val',\n",
    "           'names': cat_dict}"
   ]
  },
  {
   "cell_type": "code",
   "execution_count": null,
   "metadata": {},
   "outputs": [],
   "source": [
    "with open(\"/data/dataset.yaml\", 'w') as yamlfile:\n",
    "    data = yaml.dump(dataset, yamlfile)\n",
    "    print(\"Write successful\")"
   ]
  },
  {
   "cell_type": "code",
   "execution_count": null,
   "metadata": {},
   "outputs": [],
   "source": [
    "cat_df['index'] = range(len(cat_df))\n",
    "map_dict = cat_df[['id', 'index']].to_dict()['id']\n",
    "map_dict = {value:key for key, value in map_dict.items()}"
   ]
  },
  {
   "cell_type": "code",
   "execution_count": null,
   "metadata": {},
   "outputs": [],
   "source": [
    "cat_df[cat_df.shallow_species == True]['id'].to_list()"
   ]
  },
  {
   "cell_type": "code",
   "execution_count": null,
   "metadata": {},
   "outputs": [],
   "source": [
    "ann_df = pd.DataFrame.from_dict(coco.anns, orient='index')\n",
    "# print(ann_df['image_id'].unique().__len__())\n",
    "ann_df = ann_df.join(pd.Series(shallow_species, name='shallow_species'), on='category_id').dropna()\n",
    "ann_df['original_category'] = ann_df['category_id']\n",
    "ann_df['category_id'] = ann_df['category_id'].map(map_dict)\n",
    "ann_df\n"
   ]
  },
  {
   "cell_type": "code",
   "execution_count": null,
   "metadata": {},
   "outputs": [],
   "source": [
    "print(ann_df['image_id'].unique().__len__())\n",
    "remaining_images = pd.Series(ann_df['image_id'].unique(), name='id')\n",
    "remaining_images"
   ]
  },
  {
   "cell_type": "code",
   "execution_count": null,
   "metadata": {},
   "outputs": [],
   "source": [
    "train_img_df = pd.DataFrame.from_dict(coco.imgs, orient='index')\n",
    "train_img_df = train_img_df.merge(remaining_images, on=['id'])\n",
    "train_img_df"
   ]
  },
  {
   "cell_type": "code",
   "execution_count": null,
   "metadata": {},
   "outputs": [],
   "source": [
    "eval_img_df = pd.DataFrame.from_dict(coco_eval.imgs, orient='index')\n",
    "eval_img_df"
   ]
  },
  {
   "cell_type": "code",
   "execution_count": null,
   "metadata": {},
   "outputs": [],
   "source": [
    "cat_df.to_json('category_key.json')\n",
    "ann_df.to_json('annotation.json')\n",
    "train_img_df.to_json('train_image_data.json')\n",
    "eval_img_df.to_json('eval_image_data.json')"
   ]
  },
  {
   "attachments": {},
   "cell_type": "markdown",
   "metadata": {},
   "source": [
    "## EDA goals\n",
    "View statistics for:\n",
    "- Images\n",
    "  - total number of images\n",
    "  - number of images by height/width\n",
    "- Objects\n",
    "  - Number of each type of category\n",
    "  - Supercategory/category breakdown\n"
   ]
  },
  {
   "cell_type": "code",
   "execution_count": null,
   "metadata": {},
   "outputs": [],
   "source": [
    "def images_eda(image_df):\n",
    "    n_total = len(image_df)\n",
    "    dims = pd.Series(tuple(zip(image_df.width, image_df.height)))\n",
    "    print(f'Total number of images in dataset: {n_total}')\n",
    "    print('Top resolutions:')\n",
    "    print(dims.value_counts().head(25))\n",
    "\n",
    "images_eda(img_df)\n"
   ]
  },
  {
   "cell_type": "code",
   "execution_count": null,
   "metadata": {},
   "outputs": [],
   "source": [
    "def object_eda(annotation_df, categories_df):\n",
    "    cat_count = annotation_df.category_id.value_counts().to_frame()\n",
    "    df = categories_df.join(cat_count).sort_values('category_id', ascending=False).reset_index(drop=True)\n",
    "    df = df.rename(columns={'id': 'category_id',\n",
    "                              'name': 'category',\n",
    "                              'supercategory': 'supercategory',\n",
    "                              'category_id': 'cat_id_counts'})\n",
    "    df = df[df.cat_id_counts > 50]\n",
    "    print(f'There are {len(df.dropna())} of 290 species present in the dataset.')\n",
    "    print(f'There are {len(df.dropna().supercategory.unique())} of 20 semantic supercategories present.')\n",
    "    return df\n",
    "\n",
    "object_eda(ann_df, cat_df).dropna()"
   ]
  },
  {
   "cell_type": "code",
   "execution_count": null,
   "metadata": {},
   "outputs": [],
   "source": [
    "def supercat_eda(annotation_df, categories_df):\n",
    "    df = categories_df\n",
    "    out = {}\n",
    "    supermap = {i: list(df[df.supercategory == i].id.unique()) for i in df.supercategory.unique()}\n",
    "    for i in supermap.keys():\n",
    "        out[i] = 0\n",
    "        for j in supermap[i]:\n",
    "            out[i] += (len(annotation_df[annotation_df.category_id == j].image_id.unique()))    \n",
    "    return out, supermap\n",
    "\n",
    "supercat_eda(ann_df, cat_df)#.head(15)"
   ]
  },
  {
   "attachments": {},
   "cell_type": "markdown",
   "metadata": {},
   "source": [
    "## Search\n",
    "Build search functions for:\n",
    "- Images\n",
    "  - list image ids with given category_id\n",
    "  - show images with bbox\n",
    "  - sort image lists by bbox size"
   ]
  },
  {
   "cell_type": "code",
   "execution_count": null,
   "metadata": {},
   "outputs": [],
   "source": [
    "ann_df2 = ann_df.rename(columns={'id': 'annotation_id'})\n",
    "cat_df2 = cat_df.rename(columns={'id': \"category_id\"})\n",
    "img_df2 = train_img_df.rename(columns={'id': 'image_id'})\n",
    "all_df = pd.merge(ann_df2, cat_df2, on='category_id')\n",
    "all_df = pd.merge(all_df, img_df2, on='image_id')\n",
    "\n",
    "all_df"
   ]
  },
  {
   "cell_type": "code",
   "execution_count": null,
   "metadata": {},
   "outputs": [],
   "source": [
    "all_df = all_df.join(pd.Series(shallow_species, name='shallow_species'), on='category_id').dropna()\n",
    "all_df"
   ]
  },
  {
   "cell_type": "code",
   "execution_count": null,
   "metadata": {},
   "outputs": [],
   "source": [
    "all_df.image_id.unique().__len__() / 5950"
   ]
  },
  {
   "cell_type": "code",
   "execution_count": null,
   "metadata": {},
   "outputs": [],
   "source": [
    "def images_by_cat(df, category_id):\n",
    "    print(f'{cat_df.loc[category_id]}')\n",
    "    df = df[df['category_id'] == category_id]\n",
    "    print(f'\\nFound {len(df)} images: \\n\\n')\n",
    "    return df"
   ]
  },
  {
   "cell_type": "code",
   "execution_count": null,
   "metadata": {},
   "outputs": [],
   "source": [
    "def get_image_with_annotation(img_id, category_id=None):\n",
    "    row = img_df[img_df.id == img_id]\n",
    "    filename = row.file_name[img_id]\n",
    "    anns = ann_df[ann_df.image_id == img_id]\n",
    "    if category_id != None:\n",
    "        anns = anns[anns.category_id == category_id]\n",
    "    print(filename)\n",
    "    return filename, anns"
   ]
  },
  {
   "cell_type": "code",
   "execution_count": null,
   "metadata": {},
   "outputs": [],
   "source": [
    "def show_image(img_id, category_id=None):\n",
    "    filename, anns = get_image_with_annotation(img_id)\n",
    "    img_path = TRAINPATH + filename\n",
    "    img = mpimg.imread(img_path)\n",
    "    \n",
    "    _, ax = plt.subplots()\n",
    "    ax.imshow(img)\n",
    "    for _, ann in anns.iterrows():\n",
    "        x, y, width, height = ann['bbox']\n",
    "        if category_id == ann.category_id:\n",
    "            rect = patches.Rectangle((x, y), width, height, linewidth=1, edgecolor='r', facecolor='none')\n",
    "        else:\n",
    "            rect = patches.Rectangle((x, y), width, height, linewidth=1, edgecolor='b', facecolor='none')\n",
    "        ax.add_patch(rect)\n",
    "    plt.show()"
   ]
  },
  {
   "cell_type": "code",
   "execution_count": null,
   "metadata": {},
   "outputs": [],
   "source": [
    "def show_image_by_category(df, category_id):\n",
    "    subdf = images_by_cat(df, category_id)\n",
    "    images = subdf['image_id']\n",
    "    for image in images:\n",
    "        show_image(image, category_id)"
   ]
  },
  {
   "cell_type": "code",
   "execution_count": null,
   "metadata": {},
   "outputs": [],
   "source": [
    "images_by_cat(all_df, 1)"
   ]
  },
  {
   "cell_type": "code",
   "execution_count": null,
   "metadata": {},
   "outputs": [],
   "source": [
    "_, anns = get_image_with_annotation(5)\n",
    "anns"
   ]
  },
  {
   "cell_type": "code",
   "execution_count": null,
   "metadata": {},
   "outputs": [],
   "source": [
    "show_image(717, 26)"
   ]
  },
  {
   "cell_type": "code",
   "execution_count": null,
   "metadata": {},
   "outputs": [],
   "source": [
    "show_image_by_category(all_df, 259)"
   ]
  },
  {
   "cell_type": "code",
   "execution_count": null,
   "metadata": {},
   "outputs": [],
   "source": [
    "# all_df.to_json(DATAPATH + 'y_clean.json')"
   ]
  },
  {
   "attachments": {},
   "cell_type": "markdown",
   "metadata": {},
   "source": [
    "## Submission"
   ]
  },
  {
   "cell_type": "code",
   "execution_count": null,
   "metadata": {},
   "outputs": [],
   "source": [
    "import glob\n",
    "import os\n",
    "\n",
    "def remap(cat_lst, mapper, shallow):\n",
    "    cat_df[cat_df.shallow_species == True]['index'].to_list()\n",
    "    out = []\n",
    "    osd = 0.9 # set for base case that there are objects found\n",
    "    for i in cat_lst:\n",
    "        osd = 0.5\n",
    "        if i in shallow:\n",
    "            osd = 0.1 # update if shallow species present\n",
    "        out.append(str(mapper.get(i)))\n",
    "    return out, osd\n",
    "\n",
    "\n",
    "out = {}\n",
    "filelist = glob.glob('runs/detect/predict/labels/*.txt')\n",
    "# filelist = glob.glob('test*.txt')\n",
    "shallow = cat_df[cat_df.shallow_species == True]['index'].to_list()\n",
    "mapper = cat_df[['id', 'index']].to_dict()['id']\n",
    "\n",
    "for i, file in enumerate(filelist):\n",
    "    with open(file, 'r') as f:\n",
    "        cats = []\n",
    "\n",
    "        for line in f.readlines():\n",
    "            cats.append(int(line.split(' ')[0]))\n",
    "\n",
    "        cats, osd = remap(cats, mapper, shallow)\n",
    "        cats = ' '.join(cats)\n",
    "        if len(cats) == 0:\n",
    "            cats = '160'\n",
    "\n",
    "    out[i] = {'id': os.path.basename(file)[:-4], 'categories': cats, 'osd': osd}\n",
    "\n",
    "df = pd.DataFrame.from_dict(out, orient='index')\n",
    "df[['id', 'categories', 'osd']].to_csv('submission_1.csv', index=False)"
   ]
  }
 ],
 "metadata": {
  "kernelspec": {
   "display_name": "Python 3",
   "language": "python",
   "name": "python3"
  },
  "language_info": {
   "codemirror_mode": {
    "name": "ipython",
    "version": 3
   },
   "file_extension": ".py",
   "mimetype": "text/x-python",
   "name": "python",
   "nbconvert_exporter": "python",
   "pygments_lexer": "ipython3",
   "version": "3.9.16"
  },
  "orig_nbformat": 4
 },
 "nbformat": 4,
 "nbformat_minor": 2
}
